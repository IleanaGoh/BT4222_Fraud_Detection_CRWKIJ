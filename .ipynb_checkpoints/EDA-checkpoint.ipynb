{
 "cells": [
  {
   "cell_type": "code",
   "execution_count": 8,
   "id": "c23062c8",
   "metadata": {},
   "outputs": [],
   "source": [
    "import pandas as pd\n",
    "\n",
    "test_identity = pd.read_csv('test_identity.csv')\n",
    "test_transaction = pd.read_csv('test_transaction.csv')\n",
    "\n",
    "\n",
    "train_identity = pd.read_csv('train_identity.csv')\n",
    "train_transaction =  pd.read_csv('train_transaction.csv')\n"
   ]
  },
  {
   "cell_type": "code",
   "execution_count": 9,
   "id": "5959e681",
   "metadata": {},
   "outputs": [
    {
     "name": "stdout",
     "output_type": "stream",
     "text": [
      "train_merged: (590540, 434)\n",
      "test_merged: (506691, 433)\n"
     ]
    }
   ],
   "source": [
    "\n",
    "#Merge datasets to create a single train test dataset\n",
    "train_merged = pd.merge(train_transaction, train_identity, on = 'TransactionID', how = 'left')\n",
    "test_merged = pd.merge(test_transaction, test_identity, on = 'TransactionID', how = 'left')\n",
    "\n",
    "#Checking the shape of merged datsets\n",
    "print('train_merged:',train_merged.shape)\n",
    "print('test_merged:', test_merged.shape)"
   ]
  },
  {
   "cell_type": "code",
   "execution_count": 10,
   "id": "94c98073",
   "metadata": {},
   "outputs": [
    {
     "name": "stdout",
     "output_type": "stream",
     "text": [
      "train_identity: (144233, 41)\n",
      "train_transaction: (590540, 394)\n"
     ]
    }
   ],
   "source": [
    "#Checking the shape of merged datsets\n",
    "print('train_identity:',train_identity.shape)\n",
    "print('train_transaction:', train_transaction.shape)"
   ]
  },
  {
   "cell_type": "code",
   "execution_count": 12,
   "id": "cc3217dc",
   "metadata": {},
   "outputs": [
    {
     "name": "stdout",
     "output_type": "stream",
     "text": [
      "test_identity: (141907, 41)\n",
      "test_transaction: (506691, 393)\n"
     ]
    }
   ],
   "source": [
    "#Checking the shape of merged datsets\n",
    "print('test_identity:',test_identity.shape)\n",
    "print('test_transaction:', test_transaction.shape)"
   ]
  }
 ],
 "metadata": {
  "kernelspec": {
   "display_name": "Python 3 (ipykernel)",
   "language": "python",
   "name": "python3"
  },
  "language_info": {
   "codemirror_mode": {
    "name": "ipython",
    "version": 3
   },
   "file_extension": ".py",
   "mimetype": "text/x-python",
   "name": "python",
   "nbconvert_exporter": "python",
   "pygments_lexer": "ipython3",
   "version": "3.9.13"
  }
 },
 "nbformat": 4,
 "nbformat_minor": 5
}
