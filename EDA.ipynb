{
 "cells": [
  {
   "cell_type": "code",
   "execution_count": 8,
   "id": "c23062c8",
   "metadata": {},
   "outputs": [],
   "source": [
    "import pandas as pd\n",
    "\n",
    "test_identity = pd.read_csv('test_identity.csv')\n",
    "test_transaction = pd.read_csv('test_transaction.csv')\n",
    "\n",
    "\n",
    "train_identity = pd.read_csv('train_identity.csv')\n",
    "train_transaction =  pd.read_csv('train_transaction.csv')\n"
   ]
  },
  {
   "cell_type": "code",
   "execution_count": 10,
   "id": "ea40058a",
   "metadata": {},
   "outputs": [
    {
     "name": "stdout",
     "output_type": "stream",
     "text": [
      "train_identity: (144233, 41)\n",
      "train_transaction: (590540, 394)\n"
     ]
    }
   ],
   "source": [
    "#Checking the shape of merged datsets\n",
    "print('train_identity:',train_identity.shape)\n",
    "print('train_transaction:', train_transaction.shape)"
   ]
  },
  {
   "cell_type": "code",
   "execution_count": 12,
   "id": "85aec98d",
   "metadata": {},
   "outputs": [
    {
     "name": "stdout",
     "output_type": "stream",
     "text": [
      "test_identity: (141907, 41)\n",
      "test_transaction: (506691, 393)\n"
     ]
    }
   ],
   "source": [
    "#Checking the shape of merged datsets\n",
    "print('test_identity:',test_identity.shape)\n",
    "print('test_transaction:', test_transaction.shape)"
   ]
  },
  {
   "cell_type": "code",
   "execution_count": 30,
   "id": "667718d1",
   "metadata": {},
   "outputs": [
    {
     "name": "stdout",
     "output_type": "stream",
     "text": [
      "identity_merged: (286140, 41)\n"
     ]
    }
   ],
   "source": [
    "def standardize_columns(df):\n",
    "    df.columns = df.columns.str.replace('-', '_')\n",
    "\n",
    "standardize_columns(train_identity)\n",
    "standardize_columns(test_identity)\n",
    "identity_merged = pd.concat([train_identity, test_identity], axis = 0)\n",
    "print('identity_merged:', identity_merged.shape)"
   ]
  },
  {
   "cell_type": "code",
   "execution_count": 31,
   "id": "1de05f5c",
   "metadata": {},
   "outputs": [
    {
     "name": "stdout",
     "output_type": "stream",
     "text": [
      "Columns only in train_i: {'isFraud'}\n",
      "Columns only in test_i: set()\n"
     ]
    }
   ],
   "source": [
    "train_i_cols = set(train_transaction.columns)\n",
    "test_i_cols = set(test_transaction.columns)\n",
    "\n",
    "columns_only_in_train_i = train_i_cols - test_i_cols\n",
    "columns_only_in_test_i = test_i_cols - train_i_cols\n",
    "\n",
    "print(\"Columns only in train_i:\", columns_only_in_train_i)\n",
    "print(\"Columns only in test_i:\", columns_only_in_test_i)"
   ]
  },
  {
   "cell_type": "code",
   "execution_count": 9,
   "id": "687b64ad",
   "metadata": {},
   "outputs": [
    {
     "name": "stdout",
     "output_type": "stream",
     "text": [
      "train_merged: (590540, 434)\n",
      "test_merged: (506691, 433)\n"
     ]
    }
   ],
   "source": [
    "\n",
    "#Merge datasets to create a single train test dataset\n",
    "train_merged = pd.merge(train_transaction, train_identity, on = 'TransactionID', how = 'left')\n",
    "test_merged = pd.merge(test_transaction, test_identity, on = 'TransactionID', how = 'left')\n",
    "\n",
    "#Checking the shape of merged datsets\n",
    "print('train_merged:',train_merged.shape)\n",
    "print('test_merged:', test_merged.shape)"
   ]
  },
  {
   "cell_type": "code",
   "execution_count": 22,
   "id": "bde6e94b",
   "metadata": {},
   "outputs": [
    {
     "name": "stdout",
     "output_type": "stream",
     "text": [
      "identity_merged: (286140, 79)\n"
     ]
    }
   ],
   "source": [
    "#Merge datasets to create a single train test dataset\n",
    "identity_merged = pd.concat([test_identity, train_identity], axis = 0)\n",
    "# transaction_merged = pd.concat([test_transaction, train_transaction], ignore_index=True)\n",
    "\n",
    "\n",
    "#Checking the shape of merged datsets\n",
    "print('identity_merged:',identity_merged.shape)\n",
    "# print('transaction_merged:', transaction_merged.shape)"
   ]
  }
 ],
 "metadata": {
  "kernelspec": {
   "display_name": "Python 3 (ipykernel)",
   "language": "python",
   "name": "python3"
  },
  "language_info": {
   "codemirror_mode": {
    "name": "ipython",
    "version": 3
   },
   "file_extension": ".py",
   "mimetype": "text/x-python",
   "name": "python",
   "nbconvert_exporter": "python",
   "pygments_lexer": "ipython3",
   "version": "3.9.13"
  }
 },
 "nbformat": 4,
 "nbformat_minor": 5
}
